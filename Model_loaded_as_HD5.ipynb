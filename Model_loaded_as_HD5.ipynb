{
  "nbformat": 4,
  "nbformat_minor": 0,
  "metadata": {
    "colab": {
      "name": "recog_trial.ipynb",
      "provenance": [],
      "collapsed_sections": [],
      "authorship_tag": "ABX9TyNPrbr9CCFh2OhGQRV+m+fr",
      "include_colab_link": true
    },
    "kernelspec": {
      "name": "python3",
      "display_name": "Python 3"
    },
    "language_info": {
      "name": "python"
    }
  },
  "cells": [
    {
      "cell_type": "markdown",
      "metadata": {
        "id": "view-in-github",
        "colab_type": "text"
      },
      "source": [
        "<a href=\"https://colab.research.google.com/github/KevinTheRainmaker/Speech_Emotion_Classifier/blob/main/Model_loaded_as_HD5.ipynb\" target=\"_parent\"><img src=\"https://colab.research.google.com/assets/colab-badge.svg\" alt=\"Open In Colab\"/></a>"
      ]
    },
    {
      "cell_type": "code",
      "source": [
        "import os\n",
        "import pandas as pd\n",
        "import numpy as np\n",
        "import tensorflow as tf\n",
        "# from sklearn.preprocessing import OneHotEncoder\n",
        "\n",
        "import librosa"
      ],
      "metadata": {
        "id": "QTg6wAQ5aQbF"
      },
      "execution_count": 23,
      "outputs": []
    },
    {
      "cell_type": "code",
      "execution_count": 24,
      "metadata": {
        "colab": {
          "base_uri": "https://localhost:8080/"
        },
        "id": "widMklI0ZfKr",
        "outputId": "d9440754-2eab-406b-ecb5-732205d810dd"
      },
      "outputs": [
        {
          "output_type": "stream",
          "name": "stdout",
          "text": [
            "Mounted at /content/drive\n"
          ]
        }
      ],
      "source": [
        "# mount gdrive\n",
        "from google.colab import drive\n",
        "drive.mount('/content/drive', force_remount=True)\n",
        "\n",
        "drive_path = '/content/drive/MyDrive/data/emotional_speech'"
      ]
    },
    {
      "cell_type": "code",
      "source": [
        "sample_path = (drive_path + '/RAVDESS/Actor_01/03-01-05-02-01-02-01.wav')"
      ],
      "metadata": {
        "id": "j04PrxloZhiS"
      },
      "execution_count": 27,
      "outputs": []
    },
    {
      "cell_type": "code",
      "source": [
        "sample_path"
      ],
      "metadata": {
        "colab": {
          "base_uri": "https://localhost:8080/",
          "height": 35
        },
        "id": "A7c2OwprE5ml",
        "outputId": "a6698c70-841e-4eae-e037-88ffb28968fd"
      },
      "execution_count": 28,
      "outputs": [
        {
          "output_type": "execute_result",
          "data": {
            "text/plain": [
              "'/content/drive/MyDrive/data/emotional_speech/RAVDESS/Actor_01/03-01-05-02-01-02-01.wav'"
            ],
            "application/vnd.google.colaboratory.intrinsic+json": {
              "type": "string"
            }
          },
          "metadata": {},
          "execution_count": 28
        }
      ]
    },
    {
      "cell_type": "code",
      "source": [
        "def extract_features(data):\n",
        "  # ZCR\n",
        "  result = np.array([])\n",
        "  zcr = np.mean(librosa.feature.zero_crossing_rate(y=data).T, axis=0)\n",
        "  result=np.hstack((result, zcr)) # stacking horizontally\n",
        "\n",
        "  # Chroma_stft\n",
        "  stft = np.abs(librosa.stft(data))\n",
        "  chroma_stft = np.mean(librosa.feature.chroma_stft(S=stft, sr=22050).T, axis=0)\n",
        "  result = np.hstack((result, chroma_stft))\n",
        "\n",
        "  # MFCC\n",
        "  mfcc = np.mean(librosa.feature.mfcc(y=data, sr=22050).T, axis=0)\n",
        "  result = np.hstack((result, mfcc))\n",
        "\n",
        "  # Root Mean Square Value\n",
        "  rms = np.mean(librosa.feature.rms(y=data).T, axis=0)\n",
        "  result = np.hstack((result, rms))\n",
        "\n",
        "  # MelSpectogram\n",
        "  mel = np.mean(librosa.feature.melspectrogram(y=data, sr=22050).T, axis=0)\n",
        "  result = np.hstack((result, mel))\n",
        "  \n",
        "  return result"
      ],
      "metadata": {
        "id": "iN6Kut5Oa3kh"
      },
      "execution_count": 29,
      "outputs": []
    },
    {
      "cell_type": "code",
      "source": [
        "def get_features(path):\n",
        "  data, sample_rate = librosa.load(path, duration=2.5, offset=0.6)\n",
        "  \n",
        "  res1 = extract_features(data)\n",
        "  result = np.array(res1)\n",
        "  \n",
        "  return result"
      ],
      "metadata": {
        "id": "CtRm1ZLqa4YV"
      },
      "execution_count": 30,
      "outputs": []
    },
    {
      "cell_type": "code",
      "source": [
        "model = tf.keras.models.load_model(os.path.join(drive_path, 'best-model-100.h5'))"
      ],
      "metadata": {
        "id": "HZYcYARgaF28"
      },
      "execution_count": 31,
      "outputs": []
    },
    {
      "cell_type": "code",
      "source": [
        "# label = np.array(['angry','calm','disgust','fear','happy','neutral','sad','surprise'])\n",
        "# encoder = OneHotEncoder()\n",
        "# label = encoder.fit_transform(np.array(label).reshape(-1,1)).toarray()"
      ],
      "metadata": {
        "id": "-7cZfK_RjpKC"
      },
      "execution_count": 32,
      "outputs": []
    },
    {
      "cell_type": "code",
      "source": [
        "feature = get_features(sample_path)\n",
        "temp = np.expand_dims(feature, axis=1)\n",
        "data = temp.reshape((1, temp.shape[0], temp.shape[1]))"
      ],
      "metadata": {
        "id": "6jOpMxW9bmR2"
      },
      "execution_count": 33,
      "outputs": []
    },
    {
      "cell_type": "code",
      "source": [
        "pred = model.predict(data)\n",
        "print(pred)\n",
        "# result = encoder.inverse_transform(pred)\n",
        "# result"
      ],
      "metadata": {
        "colab": {
          "base_uri": "https://localhost:8080/"
        },
        "id": "Z7GjG32naUlu",
        "outputId": "5ed75632-bcbe-428f-e501-1f9df4f529a7"
      },
      "execution_count": 34,
      "outputs": [
        {
          "output_type": "stream",
          "name": "stdout",
          "text": [
            "[[0. 0. 0. 1. 0. 0. 0. 0.]]\n"
          ]
        }
      ]
    },
    {
      "cell_type": "markdown",
      "source": [
        "# '😡', '🙂', '😩', '😱', '😊', '😐', '😭', '😲'"
      ],
      "metadata": {
        "id": "rgWO0Dz9nVHv"
      }
    },
    {
      "cell_type": "code",
      "source": [
        ""
      ],
      "metadata": {
        "id": "u4fENmtonTHp"
      },
      "execution_count": null,
      "outputs": []
    }
  ]
}